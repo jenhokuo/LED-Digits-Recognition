{
 "cells": [
  {
   "cell_type": "code",
   "execution_count": 1,
   "metadata": {},
   "outputs": [
    {
     "name": "stdout",
     "output_type": "stream",
     "text": [
      "TFRecords files already exist. Exiting without re-creating them.\n"
     ]
    }
   ],
   "source": [
    "import tensorflow as tf\n",
    "import matplotlib.pyplot as plt\n",
    "\n",
    "import dataset_led\n",
    "\n",
    "# The designated height and width of a image is fed into CNN\n",
    "_IMG_HEIGHT = 64\n",
    "_IMG_WIDTH = 64\n",
    "\n",
    "# Data pipeline parameters\n",
    "_BATCH_SIZE = 32\n",
    "_EPOCHS = 20\n",
    "\n",
    "\n",
    "def preprocess(img, label):\n",
    "    \"\"\" Perform data preprocess including image transformation and label convertion\n",
    "    Args:\n",
    "        img: Image in tensor to be transformed\n",
    "        label: Label in scalar to be converted\n",
    "    Returns:\n",
    "        A tulple of transformed image and converted label\n",
    "    \"\"\"\n",
    "    # Resize to designated size so NN can process\n",
    "    resized_img = tf.image.resize(img, [_IMG_HEIGHT, _IMG_WIDTH])\n",
    "    # Normalize to 0 ~ 1\n",
    "    normalized_img = resized_img / 255.0 \n",
    "    # Convert 0-based label to one-hot format\n",
    "    one_hot_label = tf.one_hot(label, depth=8)\n",
    "    return normalized_img, one_hot_label\n",
    "\n",
    "\n",
    "def create_dataset(ds):\n",
    "    \"\"\" Create dataset applied needed process and transformation\n",
    "    Args:\n",
    "        ds: tf.data.dataset to be processed\n",
    "    Returns:\n",
    "        A tuple of processed dataset and the amount of dataset\n",
    "    \"\"\"\n",
    "    # Get the size of the dataset\n",
    "    n_samples = sum([1 for x in ds])\n",
    "    return ds.map(preprocess).shuffle(n_samples*2).repeat().batch(_BATCH_SIZE), n_samples\n",
    "\n",
    "\n",
    "# Get TFdataset by helper function\n",
    "train_dataset, dev_dataset, test_dataset = dataset_led.load_data_tfdataset()\n",
    "\n",
    "# Apply the data transformation to corresponding dataset, note that test dataset doesn't need to repeat\n",
    "train_dataset, n_train_dataset= create_dataset(train_dataset)\n",
    "dev_dataset, n_dev_dataset = create_dataset(dev_dataset)\n",
    "test_dataset = test_dataset.map(preprocess).batch(_BATCH_SIZE)"
   ]
  },
  {
   "cell_type": "code",
   "execution_count": 2,
   "metadata": {},
   "outputs": [],
   "source": [
    "def show_batch(image_batch, label_batch):\n",
    "    \"\"\" Display a batch of images and its labels\n",
    "    Args:\n",
    "        images_batch: List of images in Tensors\n",
    "        label_batch: List of true labels in Tensors\n",
    "        predict_labels_batch: list of predicted labels in Tensors\n",
    "    Returns:\n",
    "        None\n",
    "    \"\"\"\n",
    "    plt.figure(figsize=(20,20))\n",
    "    for i, (image, label) in enumerate(zip(image_batch, label_batch)):\n",
    "        img = tf.keras.preprocessing.image.array_to_img(image)\n",
    "        plt.subplot(6,6,i+1)\n",
    "        plt.imshow(img)\n",
    "        plt.title(str(label.numpy()))\n",
    "    plt.show()\n",
    "\n",
    "    \n",
    "# # Scripts for examing content of variable, comment out...\n",
    "# for image_batch, label_batch in train_dataset.take(1):\n",
    "#     print(image_batch.shape, label_batch.shape)\n",
    "#     print(label_batch.numpy()[0])\n",
    "#     print(image_batch.numpy()[0])\n",
    "\n",
    "# image_batch, label_batch = next(iter(train_dataset))\n",
    "# show_batch(image_batch, label_batch)"
   ]
  },
  {
   "cell_type": "code",
   "execution_count": 3,
   "metadata": {},
   "outputs": [
    {
     "name": "stdout",
     "output_type": "stream",
     "text": [
      "Model: \"sequential\"\n",
      "_________________________________________________________________\n",
      "Layer (type)                 Output Shape              Param #   \n",
      "=================================================================\n",
      "flatten (Flatten)            (None, 12288)             0         \n",
      "_________________________________________________________________\n",
      "dense (Dense)                (None, 64)                786496    \n",
      "_________________________________________________________________\n",
      "dense_1 (Dense)              (None, 8)                 520       \n",
      "=================================================================\n",
      "Total params: 787,016\n",
      "Trainable params: 787,016\n",
      "Non-trainable params: 0\n",
      "_________________________________________________________________\n"
     ]
    }
   ],
   "source": [
    "def create_model():\n",
    "    \"\"\" Create the NN Keras model in sequential way\n",
    "    Args:\n",
    "        None\n",
    "    Returns:\n",
    "        The structure of the model\n",
    "    \"\"\"\n",
    "    model = tf.keras.Sequential([\n",
    "        tf.keras.layers.Flatten(input_shape=(64, 64, 3)),\n",
    "        tf.keras.layers.Dense(64, activation='relu'),\n",
    "        tf.keras.layers.Dense(8, activation='softmax')\n",
    "    ])\n",
    "    return model\n",
    "\n",
    "# Establish the model, which is a simple neural network with one hidden layer\n",
    "model = create_model()\n",
    "model.summary()"
   ]
  },
  {
   "cell_type": "code",
   "execution_count": 4,
   "metadata": {},
   "outputs": [
    {
     "name": "stdout",
     "output_type": "stream",
     "text": [
      "Train for 68 steps, validate for 14 steps\n",
      "Epoch 1/40\n",
      "68/68 [==============================] - 1s 18ms/step - loss: 1.8246 - categorical_accuracy: 0.3741 - val_loss: 1.5539 - val_categorical_accuracy: 0.5246\n",
      "Epoch 2/40\n",
      "68/68 [==============================] - 1s 11ms/step - loss: 1.3839 - categorical_accuracy: 0.5864 - val_loss: 1.2485 - val_categorical_accuracy: 0.5848\n",
      "Epoch 3/40\n",
      "68/68 [==============================] - 1s 11ms/step - loss: 1.1198 - categorical_accuracy: 0.7394 - val_loss: 0.9892 - val_categorical_accuracy: 0.8237\n",
      "Epoch 4/40\n",
      "68/68 [==============================] - 1s 11ms/step - loss: 0.8989 - categorical_accuracy: 0.8768 - val_loss: 0.8307 - val_categorical_accuracy: 0.9107\n",
      "Epoch 5/40\n",
      "68/68 [==============================] - 1s 11ms/step - loss: 0.7298 - categorical_accuracy: 0.9389 - val_loss: 0.6836 - val_categorical_accuracy: 0.9598\n",
      "Epoch 6/40\n",
      "68/68 [==============================] - 1s 11ms/step - loss: 0.5951 - categorical_accuracy: 0.9706 - val_loss: 0.5532 - val_categorical_accuracy: 0.9665\n",
      "Epoch 7/40\n",
      "68/68 [==============================] - 1s 11ms/step - loss: 0.4880 - categorical_accuracy: 0.9922 - val_loss: 0.4486 - val_categorical_accuracy: 0.9754\n",
      "Epoch 8/40\n",
      "68/68 [==============================] - 1s 12ms/step - loss: 0.4025 - categorical_accuracy: 0.9894 - val_loss: 0.3921 - val_categorical_accuracy: 0.9732\n",
      "Epoch 9/40\n",
      "68/68 [==============================] - 1s 16ms/step - loss: 0.3449 - categorical_accuracy: 0.9899 - val_loss: 0.3345 - val_categorical_accuracy: 0.9978\n",
      "Epoch 10/40\n",
      "68/68 [==============================] - 1s 16ms/step - loss: 0.2837 - categorical_accuracy: 1.0000 - val_loss: 0.2752 - val_categorical_accuracy: 0.9911\n",
      "Epoch 11/40\n",
      "68/68 [==============================] - 1s 12ms/step - loss: 0.2416 - categorical_accuracy: 0.9995 - val_loss: 0.2425 - val_categorical_accuracy: 0.9978\n",
      "Epoch 12/40\n",
      "68/68 [==============================] - 1s 12ms/step - loss: 0.2116 - categorical_accuracy: 0.9995 - val_loss: 0.2264 - val_categorical_accuracy: 0.9978\n",
      "Epoch 13/40\n",
      "68/68 [==============================] - 1s 12ms/step - loss: 0.1811 - categorical_accuracy: 1.0000 - val_loss: 0.1850 - val_categorical_accuracy: 0.9978\n",
      "Epoch 14/40\n",
      "68/68 [==============================] - 1s 12ms/step - loss: 0.1580 - categorical_accuracy: 1.0000 - val_loss: 0.1612 - val_categorical_accuracy: 0.9978\n",
      "Epoch 15/40\n",
      "68/68 [==============================] - 1s 11ms/step - loss: 0.1355 - categorical_accuracy: 1.0000 - val_loss: 0.1426 - val_categorical_accuracy: 0.9978\n",
      "Epoch 16/40\n",
      "68/68 [==============================] - 1s 11ms/step - loss: 0.1201 - categorical_accuracy: 1.0000 - val_loss: 0.1333 - val_categorical_accuracy: 0.9978\n",
      "Epoch 17/40\n",
      "68/68 [==============================] - 1s 12ms/step - loss: 0.1072 - categorical_accuracy: 1.0000 - val_loss: 0.1201 - val_categorical_accuracy: 0.9978\n",
      "Epoch 18/40\n",
      "68/68 [==============================] - 1s 12ms/step - loss: 0.1000 - categorical_accuracy: 1.0000 - val_loss: 0.1081 - val_categorical_accuracy: 0.9978\n",
      "Epoch 19/40\n",
      "68/68 [==============================] - 1s 12ms/step - loss: 0.0859 - categorical_accuracy: 1.0000 - val_loss: 0.0973 - val_categorical_accuracy: 0.9978\n",
      "Epoch 20/40\n",
      "68/68 [==============================] - 1s 11ms/step - loss: 0.0791 - categorical_accuracy: 1.0000 - val_loss: 0.0915 - val_categorical_accuracy: 0.9978\n",
      "Epoch 21/40\n",
      "68/68 [==============================] - 1s 12ms/step - loss: 0.0711 - categorical_accuracy: 1.0000 - val_loss: 0.0874 - val_categorical_accuracy: 0.9978\n",
      "Epoch 22/40\n",
      "68/68 [==============================] - 1s 16ms/step - loss: 0.0645 - categorical_accuracy: 1.0000 - val_loss: 0.0765 - val_categorical_accuracy: 0.9978\n",
      "Epoch 23/40\n",
      "68/68 [==============================] - 1s 12ms/step - loss: 0.0584 - categorical_accuracy: 1.0000 - val_loss: 0.0725 - val_categorical_accuracy: 0.9978\n",
      "Epoch 24/40\n",
      "68/68 [==============================] - 1s 12ms/step - loss: 0.0540 - categorical_accuracy: 1.0000 - val_loss: 0.0708 - val_categorical_accuracy: 0.9978\n",
      "Epoch 25/40\n",
      "68/68 [==============================] - 1s 12ms/step - loss: 0.0487 - categorical_accuracy: 1.0000 - val_loss: 0.0615 - val_categorical_accuracy: 0.9978\n",
      "Epoch 26/40\n",
      "68/68 [==============================] - 1s 11ms/step - loss: 0.0453 - categorical_accuracy: 1.0000 - val_loss: 0.0574 - val_categorical_accuracy: 0.9978\n",
      "Epoch 27/40\n",
      "68/68 [==============================] - 1s 12ms/step - loss: 0.0406 - categorical_accuracy: 1.0000 - val_loss: 0.0546 - val_categorical_accuracy: 0.9978\n",
      "Epoch 28/40\n",
      "68/68 [==============================] - 1s 12ms/step - loss: 0.0383 - categorical_accuracy: 1.0000 - val_loss: 0.0511 - val_categorical_accuracy: 0.9978\n",
      "Epoch 29/40\n",
      "68/68 [==============================] - 1s 12ms/step - loss: 0.0359 - categorical_accuracy: 1.0000 - val_loss: 0.0486 - val_categorical_accuracy: 0.9978\n",
      "Epoch 30/40\n",
      "68/68 [==============================] - 1s 12ms/step - loss: 0.0318 - categorical_accuracy: 1.0000 - val_loss: 0.0505 - val_categorical_accuracy: 0.9978\n",
      "Epoch 31/40\n",
      "68/68 [==============================] - 1s 14ms/step - loss: 0.0311 - categorical_accuracy: 1.0000 - val_loss: 0.0445 - val_categorical_accuracy: 0.9978\n",
      "Epoch 32/40\n",
      "68/68 [==============================] - 1s 13ms/step - loss: 0.0290 - categorical_accuracy: 1.0000 - val_loss: 0.0417 - val_categorical_accuracy: 0.9978\n",
      "Epoch 33/40\n",
      "68/68 [==============================] - 1s 13ms/step - loss: 0.0270 - categorical_accuracy: 1.0000 - val_loss: 0.0402 - val_categorical_accuracy: 0.9978\n",
      "Epoch 34/40\n",
      "68/68 [==============================] - 1s 13ms/step - loss: 0.0243 - categorical_accuracy: 1.0000 - val_loss: 0.0395 - val_categorical_accuracy: 0.9978\n",
      "Epoch 35/40\n",
      "68/68 [==============================] - 1s 12ms/step - loss: 0.0232 - categorical_accuracy: 1.0000 - val_loss: 0.0385 - val_categorical_accuracy: 0.9978\n",
      "Epoch 36/40\n",
      "68/68 [==============================] - 1s 12ms/step - loss: 0.0217 - categorical_accuracy: 1.0000 - val_loss: 0.0354 - val_categorical_accuracy: 0.9978\n",
      "Epoch 37/40\n",
      "68/68 [==============================] - 1s 11ms/step - loss: 0.0203 - categorical_accuracy: 1.0000 - val_loss: 0.0347 - val_categorical_accuracy: 0.9978\n",
      "Epoch 38/40\n",
      "68/68 [==============================] - 1s 12ms/step - loss: 0.0187 - categorical_accuracy: 1.0000 - val_loss: 0.0339 - val_categorical_accuracy: 0.9978\n",
      "Epoch 39/40\n",
      "68/68 [==============================] - 1s 12ms/step - loss: 0.0183 - categorical_accuracy: 1.0000 - val_loss: 0.0349 - val_categorical_accuracy: 0.9978\n",
      "Epoch 40/40\n",
      "68/68 [==============================] - 1s 12ms/step - loss: 0.0167 - categorical_accuracy: 1.0000 - val_loss: 0.0333 - val_categorical_accuracy: 0.9978\n"
     ]
    }
   ],
   "source": [
    "# Compile the model and set the corresponding parameters\n",
    "model.compile(optimizer=tf.keras.optimizers.Adam(learning_rate=0.0001),\n",
    "              loss=tf.keras.losses.CategoricalCrossentropy(),\n",
    "              metrics=[tf.keras.metrics.CategoricalAccuracy()])\n",
    "\n",
    "# Train and validate the model\n",
    "model_details = model.fit(x=train_dataset,\n",
    "                    epochs=_EPOCHS,\n",
    "                    steps_per_epoch = n_train_dataset // _BATCH_SIZE,\n",
    "                    validation_data = dev_dataset,\n",
    "                    validation_steps = n_dev_dataset // _BATCH_SIZE)\n",
    "\n",
    "# Save model into disk for further use\n",
    "model.save('final_model.h5')"
   ]
  },
  {
   "cell_type": "code",
   "execution_count": 5,
   "metadata": {},
   "outputs": [
    {
     "name": "stdout",
     "output_type": "stream",
     "text": [
      "15/15 [==============================] - 0s 12ms/step - loss: 0.0181 - categorical_accuracy: 1.0000\n",
      "Test Dataset Accuracy: 100.00%\n"
     ]
    }
   ],
   "source": [
    "# Evaluate the test dataset and get the corresponding accuracy\n",
    "scores = model.evaluate(test_dataset, steps=None)\n",
    "print(\"Test Dataset Accuracy: %.2f%%\" % (scores[1]*100))"
   ]
  },
  {
   "cell_type": "code",
   "execution_count": 6,
   "metadata": {},
   "outputs": [
    {
     "data": {
      "image/png": "[encoded data removed]",
      "text/plain": [
       "<Figure size 1080x360 with 2 Axes>"
      ]
     },
     "metadata": {
      "needs_background": "light"
     },
     "output_type": "display_data"
    }
   ],
   "source": [
    "import numpy as np\n",
    "\n",
    "def plot_model(model_details):\n",
    "    \"\"\" Plot the training history to graph\n",
    "    Args:\n",
    "        model_details: The historical data of training and validation\n",
    "    Returns:\n",
    "        None\n",
    "    \"\"\"\n",
    "    # Create sub-plots\n",
    "    fig, axs = plt.subplots(1,2,figsize=(15,5))\n",
    "    \n",
    "    # Summarize history for accuracy\n",
    "    axs[0].plot(range(1,len(model_details.history['categorical_accuracy'])+1),model_details.history['categorical_accuracy'])\n",
    "    axs[0].plot(range(1,len(model_details.history['val_categorical_accuracy'])+1),model_details.history['val_categorical_accuracy'])\n",
    "    axs[0].set_title('Model Categorical Accuracy')\n",
    "    axs[0].set_ylabel('Accuracy')\n",
    "    axs[0].set_xlabel('Epoch')\n",
    "    axs[0].set_xticks(np.arange(1,len(model_details.history['categorical_accuracy'])+1),len(model_details.history['categorical_accuracy'])/10)\n",
    "    axs[0].legend(['train', 'val'], loc='best')\n",
    "    \n",
    "    # Summarize history for loss\n",
    "    axs[1].plot(range(1,len(model_details.history['loss'])+1),model_details.history['loss'])\n",
    "    axs[1].plot(range(1,len(model_details.history['val_loss'])+1),model_details.history['val_loss'])\n",
    "    axs[1].set_title('Model Loss')\n",
    "    axs[1].set_ylabel('Loss')\n",
    "    axs[1].set_xlabel('Epoch')\n",
    "    axs[1].set_xticks(np.arange(1,len(model_details.history['loss'])+1),len(model_details.history['loss'])/10)\n",
    "    axs[1].legend(['train', 'val'], loc='best')\n",
    "    \n",
    "    # Show the plot\n",
    "    plt.show()\n",
    "\n",
    "# Visualize the training accuracy and loss\n",
    "plot_model(model_details)"
   ]
  },
  {
   "cell_type": "code",
   "execution_count": null,
   "metadata": {},
   "outputs": [],
   "source": []
  }
 ],
 "metadata": {
  "kernelspec": {
   "display_name": "Python 3",
   "language": "python",
   "name": "python3"
  },
  "language_info": {
   "codemirror_mode": {
    "name": "ipython",
    "version": 3
   },
   "file_extension": ".py",
   "mimetype": "text/x-python",
   "name": "python",
   "nbconvert_exporter": "python",
   "pygments_lexer": "ipython3",
   "version": "3.6.8"
  }
 },
 "nbformat": 4,
 "nbformat_minor": 4
}
